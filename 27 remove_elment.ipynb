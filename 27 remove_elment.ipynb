{
 "cells": [
  {
   "cell_type": "code",
   "execution_count": 4,
   "metadata": {},
   "outputs": [
    {
     "name": "stdout",
     "output_type": "stream",
     "text": [
      "[1, 1, 3, 3, 3, 4, 5, 6, 2, 2, 2]\n"
     ]
    }
   ],
   "source": [
    "class Solution(object):\n",
    "    def removeElement(self,nums,val):\n",
    "        if len(nums)==0:\n",
    "            return 0\n",
    "        l=nums\n",
    "        if val not in nums:\n",
    "            return l\n",
    "        for i in range(len(l)):\n",
    "            if l[i]==val:\n",
    "                for j in range(i+1,len(l)):\n",
    "                    if l[i]!=l[j]:\n",
    "                        l[i],l[j]=l[j],l[i]\n",
    "                        break\n",
    "        return l\n",
    "test=[2,1,1,2,2,3,3,3,4,5,6]\n",
    "solution =Solution()\n",
    "print(solution.removeElement(test,2))\n"
   ]
  },
  {
   "cell_type": "code",
   "execution_count": null,
   "metadata": {
    "collapsed": true
   },
   "outputs": [],
   "source": []
  }
 ],
 "metadata": {
  "kernelspec": {
   "display_name": "Python 3",
   "language": "python",
   "name": "python3"
  },
  "language_info": {
   "codemirror_mode": {
    "name": "ipython",
    "version": 3
   },
   "file_extension": ".py",
   "mimetype": "text/x-python",
   "name": "python",
   "nbconvert_exporter": "python",
   "pygments_lexer": "ipython3",
   "version": "3.6.2"
  }
 },
 "nbformat": 4,
 "nbformat_minor": 2
}
