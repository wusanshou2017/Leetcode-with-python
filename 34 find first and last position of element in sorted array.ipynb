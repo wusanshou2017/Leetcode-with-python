{
 "cells": [
  {
   "cell_type": "code",
   "execution_count": 6,
   "metadata": {},
   "outputs": [
    {
     "name": "stdout",
     "output_type": "stream",
     "text": [
      "[1, 2]\n"
     ]
    }
   ],
   "source": [
    "class Solution:\n",
    "    def searchRange(self,nums,target):\n",
    "        if len(nums)==0:\n",
    "            return[-1,-1]\n",
    "        l=0\n",
    "        r=len(nums)-1\n",
    "        middle=(l+r)//2\n",
    "        while l<r:\n",
    "            if nums[middle]<target:\n",
    "                l=middle+1\n",
    "                middle=(l+r)//2\n",
    "            elif nums[middle]>target:\n",
    "                r=middle-1\n",
    "                middle=(l+r)//2\n",
    "            elif nums[middle]==target:\n",
    "                l,r=middle,middle\n",
    "                while (nums[l]==target):\n",
    "                    l-=1\n",
    "                while (nums[r]==target):\n",
    "                    r+=1\n",
    "                break\n",
    "        return [l+1,r-1]\n",
    "    \n",
    "test=[5,7,7,8,8]\n",
    "solution=Solution()\n",
    "print(solution.searchRange(test,7))\n"
   ]
  },
  {
   "cell_type": "code",
   "execution_count": null,
   "metadata": {
    "collapsed": true
   },
   "outputs": [],
   "source": []
  },
  {
   "cell_type": "code",
   "execution_count": null,
   "metadata": {
    "collapsed": true
   },
   "outputs": [],
   "source": []
  }
 ],
 "metadata": {
  "kernelspec": {
   "display_name": "Python 3",
   "language": "python",
   "name": "python3"
  },
  "language_info": {
   "codemirror_mode": {
    "name": "ipython",
    "version": 3
   },
   "file_extension": ".py",
   "mimetype": "text/x-python",
   "name": "python",
   "nbconvert_exporter": "python",
   "pygments_lexer": "ipython3",
   "version": "3.6.2"
  }
 },
 "nbformat": 4,
 "nbformat_minor": 2
}
