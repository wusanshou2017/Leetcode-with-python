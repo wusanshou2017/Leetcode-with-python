{
 "cells": [
  {
   "cell_type": "code",
   "execution_count": 2,
   "metadata": {},
   "outputs": [
    {
     "name": "stdout",
     "output_type": "stream",
     "text": [
      "6\n"
     ]
    }
   ],
   "source": [
    "class Solution:\n",
    "    def longestValidParentheses(self, s):\n",
    "        stack, res = [-1], 0\n",
    "        for i, e in enumerate(s):\n",
    "            if e == '(':\n",
    "                stack.append(i)\n",
    "            elif e == ')':  # 出栈\n",
    "                stack.pop()\n",
    "                if not stack:  # 如果栈为空，当前 位置索引 进栈，做为一个新的子串的开始（主要用作求合法子串的长度）\n",
    "                    stack.append(i)\n",
    "                else:\n",
    "                    res = max(res, i - stack[-1])  # 更新合法子串的长度\n",
    "        return res\n",
    "\n",
    "    def longestValidParentheses2(self, s):\n",
    "        dp, res = [0] * len(s), 0  # 初始化dp、定义最优结果变量\n",
    "        for i in range(len(s)):\n",
    "            if s[i] == ')':  # 只考虑以')'结尾的子串\n",
    "                if i > 0 and s[i - 1] == '(':  # 第一中情况，直接加 2\n",
    "                    dp[i] = dp[i - 2] + 2\n",
    "                if i > 0 and s[i - 1] == ')':  # 第二种情况，\n",
    "                    if i - dp[i - 1] > 0 and s[i - dp[i - 1] - 1] == '(':\n",
    "                        if i - dp[i - 1] - 1 > 0:  # 当前合法子串，前面还有子串，的情况\n",
    "                            dp[i] = dp[i - 1] + dp[i - dp[i - 1] - 2] + 2\n",
    "                        else:  # 当前合法子串，前面--没有--子串，的情况\n",
    "                            dp[i] = dp[i - 1] + 2\n",
    "                res = max(res, dp[i])  # 更新最长的合法子串\n",
    "        return res\n",
    "solution=Solution()\n",
    "test=\"())(()())\"\n",
    "print (solution.longestValidParentheses(test))\n"
   ]
  },
  {
   "cell_type": "code",
   "execution_count": null,
   "metadata": {
    "collapsed": true
   },
   "outputs": [],
   "source": []
  }
 ],
 "metadata": {
  "kernelspec": {
   "display_name": "Python 3",
   "language": "python",
   "name": "python3"
  },
  "language_info": {
   "codemirror_mode": {
    "name": "ipython",
    "version": 3
   },
   "file_extension": ".py",
   "mimetype": "text/x-python",
   "name": "python",
   "nbconvert_exporter": "python",
   "pygments_lexer": "ipython3",
   "version": "3.6.2"
  }
 },
 "nbformat": 4,
 "nbformat_minor": 2
}
