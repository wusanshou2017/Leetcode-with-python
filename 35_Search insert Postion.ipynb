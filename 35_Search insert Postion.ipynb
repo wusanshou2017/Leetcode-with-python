{
 "cells": [
  {
   "cell_type": "code",
   "execution_count": 14,
   "metadata": {},
   "outputs": [
    {
     "data": {
      "text/plain": [
       "1"
      ]
     },
     "execution_count": 14,
     "metadata": {},
     "output_type": "execute_result"
    }
   ],
   "source": [
    "class Solution:\n",
    "    def searchInsert(self,nums,target):\n",
    "        low =0\n",
    "        high= len(nums)-1\n",
    "        middle= (low+high)//2\n",
    "        if target>nums[high]:\n",
    "            return len(nums)\n",
    "        if target<nums[low]:\n",
    "            return 0\n",
    "        while(low<high):\n",
    "            if nums[middle]<target:\n",
    "                low=middle+1\n",
    "                middle=(low+high)//2\n",
    "            elif  nums[middle]>target:\n",
    "                high= middle-1\n",
    "                middle=(low+high)//2\n",
    "            elif nums[middle]==target:\n",
    "                break\n",
    "        if nums[middle]<target and nums[middle+1]>target:\n",
    "            return middle+1\n",
    "        elif nums[middle]>=target:\n",
    "            return middle\n",
    "test=[1,3,5,6,8]\n",
    "solution=Solution()\n",
    "solution.searchInsert(test,4)\n"
   ]
  },
  {
   "cell_type": "code",
   "execution_count": null,
   "metadata": {
    "collapsed": true
   },
   "outputs": [],
   "source": []
  },
  {
   "cell_type": "code",
   "execution_count": null,
   "metadata": {
    "collapsed": true
   },
   "outputs": [],
   "source": []
  }
 ],
 "metadata": {
  "kernelspec": {
   "display_name": "Python 3",
   "language": "python",
   "name": "python3"
  },
  "language_info": {
   "codemirror_mode": {
    "name": "ipython",
    "version": 3
   },
   "file_extension": ".py",
   "mimetype": "text/x-python",
   "name": "python",
   "nbconvert_exporter": "python",
   "pygments_lexer": "ipython3",
   "version": "3.6.2"
  }
 },
 "nbformat": 4,
 "nbformat_minor": 2
}
