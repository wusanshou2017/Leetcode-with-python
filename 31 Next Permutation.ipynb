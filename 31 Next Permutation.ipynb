{
 "cells": [
  {
   "cell_type": "code",
   "execution_count": 17,
   "metadata": {},
   "outputs": [
    {
     "name": "stdout",
     "output_type": "stream",
     "text": [
      "[1, 2, 3, 4, 6, 5]\n"
     ]
    }
   ],
   "source": [
    "class Solution(object):\n",
    "    def nextPermutation(self,nums):\n",
    "        n =len (nums)\n",
    "        for i in range(n-1,-1,-1):\n",
    "            if nums[i]<=nums[i-1]:\n",
    "                continue\n",
    "            else:\n",
    "                break\n",
    "        nums[i:]=nums[n:i-1:-1]\n",
    "        for j in range(i,n):\n",
    "            if nums[j]>nums[i-1]:\n",
    "                nums[i-1],nums[j]=nums[j],nums[i-1]\n",
    "                break\n",
    "\n",
    "solution =Solution()\n",
    "test=[1,3,2,7,6,5]\n",
    "test2=[1,2,3,4,5,6]\n",
    "solution.nextPermutation(test2)\n",
    "print(test2)\n",
    "        \n",
    "            "
   ]
  },
  {
   "cell_type": "code",
   "execution_count": null,
   "metadata": {
    "collapsed": true
   },
   "outputs": [],
   "source": []
  }
 ],
 "metadata": {
  "kernelspec": {
   "display_name": "Python 3",
   "language": "python",
   "name": "python3"
  },
  "language_info": {
   "codemirror_mode": {
    "name": "ipython",
    "version": 3
   },
   "file_extension": ".py",
   "mimetype": "text/x-python",
   "name": "python",
   "nbconvert_exporter": "python",
   "pygments_lexer": "ipython3",
   "version": "3.6.2"
  }
 },
 "nbformat": 4,
 "nbformat_minor": 2
}
