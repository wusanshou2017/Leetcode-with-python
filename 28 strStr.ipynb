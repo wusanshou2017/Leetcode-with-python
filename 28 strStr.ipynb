{
 "cells": [
  {
   "cell_type": "code",
   "execution_count": 13,
   "metadata": {},
   "outputs": [
    {
     "name": "stdout",
     "output_type": "stream",
     "text": [
      "9\n",
      "6\n"
     ]
    }
   ],
   "source": [
    "class Solution:\n",
    "    def strStr(self,haystack,needle):\n",
    "        if len(haystack)==0 or needle==0:\n",
    "            return -1\n",
    "        for i in range(len(haystack)):\n",
    "            j=0\n",
    "            if haystack[i] == needle[j]:\n",
    "                if haystack[i:i+len(needle)]==needle:\n",
    "                    return i\n",
    "        return -1\n",
    "    def strStr2(self,haystack,needle):\n",
    "        if needle in haystack:\n",
    "            return haystack.find(needle)\n",
    "        else:\n",
    "            return -1\n",
    "solution=Solution()\n",
    "\n",
    "test=\"abbaddcde\"\n",
    "print (len(test))\n",
    "needle=\"cde\"\n",
    "print (solution.strStr2(test,needle))"
   ]
  },
  {
   "cell_type": "code",
   "execution_count": null,
   "metadata": {
    "collapsed": true
   },
   "outputs": [],
   "source": []
  },
  {
   "cell_type": "code",
   "execution_count": null,
   "metadata": {
    "collapsed": true
   },
   "outputs": [],
   "source": []
  }
 ],
 "metadata": {
  "kernelspec": {
   "display_name": "Python 3",
   "language": "python",
   "name": "python3"
  },
  "language_info": {
   "codemirror_mode": {
    "name": "ipython",
    "version": 3
   },
   "file_extension": ".py",
   "mimetype": "text/x-python",
   "name": "python",
   "nbconvert_exporter": "python",
   "pygments_lexer": "ipython3",
   "version": "3.6.2"
  }
 },
 "nbformat": 4,
 "nbformat_minor": 2
}
