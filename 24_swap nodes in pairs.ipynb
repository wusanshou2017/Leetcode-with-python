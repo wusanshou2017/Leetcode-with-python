{
 "cells": [
  {
   "cell_type": "code",
   "execution_count": null,
   "metadata": {
    "collapsed": true
   },
   "outputs": [],
   "source": [
    "class ListNode:\n",
    "    def __init__(self,x):\n",
    "        self.val=x\n",
    "        self.next=None\n",
    "\n",
    "class Solution(object):\n",
    "    def swapPairs(self, head):\n",
    "        if head==None or head.next==None:\n",
    "            return head\n",
    "        else:\n",
    "            start=ListNode(0)\n",
    "            start.next=head\n",
    "            p=start\n",
    "            q=start.next\n",
    "            while q!=None and q.next!=None:\n",
    "                p.next=q.next\n",
    "                q.next=p.next.next\n",
    "                p.next.next=q\n",
    "                p=q\n",
    "                q=q.next\n",
    "            return start.next\n"
   ]
  }
 ],
 "metadata": {
  "kernelspec": {
   "display_name": "Python 3",
   "language": "python",
   "name": "python3"
  },
  "language_info": {
   "codemirror_mode": {
    "name": "ipython",
    "version": 3
   },
   "file_extension": ".py",
   "mimetype": "text/x-python",
   "name": "python",
   "nbconvert_exporter": "python",
   "pygments_lexer": "ipython3",
   "version": "3.6.2"
  }
 },
 "nbformat": 4,
 "nbformat_minor": 2
}
